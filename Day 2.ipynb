{
 "cells": [
  {
   "cell_type": "markdown",
   "metadata": {},
   "source": [
    "# Today Topics\n",
    "+ execution of commands in python shell\n",
    "+ Data Tyes\n",
    "    + Int\n",
    "    + Float\n",
    "    + Boolean\n",
    "    + Complex\n",
    "    + str\n",
    "+ I/p and Output\n",
    "+ Program execution in idle\n",
    "+ Program execution in command prompt\n",
    "+ Git Hub Account Creation"
   ]
  },
  {
   "cell_type": "code",
   "execution_count": null,
   "metadata": {},
   "outputs": [],
   "source": []
  }
 ],
 "metadata": {
  "kernelspec": {
   "display_name": "Python 3",
   "language": "python",
   "name": "python3"
  },
  "language_info": {
   "codemirror_mode": {
    "name": "ipython",
    "version": 3
   },
   "file_extension": ".py",
   "mimetype": "text/x-python",
   "name": "python",
   "nbconvert_exporter": "python",
   "pygments_lexer": "ipython3",
   "version": "3.7.3"
  }
 },
 "nbformat": 4,
 "nbformat_minor": 2
}
