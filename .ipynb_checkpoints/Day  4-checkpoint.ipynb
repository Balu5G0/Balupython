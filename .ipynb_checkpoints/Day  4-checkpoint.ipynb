{
 "cells": [
  {
   "cell_type": "code",
   "execution_count": null,
   "metadata": {},
   "outputs": [],
   "source": [
    "data=input('Enter any kind of data :- ')\n",
    "if data>='a' and data<='z' or data>='A' and data<='Z':\n",
    "    print(data,'alphabet')\n",
    "elif data>='0' and data<='9':\n",
    "    print(data,'is digit')\n",
    "else:\n",
    "    print(data,'is special character')\n"
   ]
  },
  {
   "cell_type": "code",
   "execution_count": null,
   "metadata": {},
   "outputs": [],
   "source": [
    "from getpass import getpass\n",
    "uname=input('enter u name:-')\n",
    "pwd=input('enter pwd :-')\n",
    "pwd=getpass('enter pwd :-')\n",
    "if uname==\"sai\"and pwd ==\"sai@123\":\n",
    "    print('welcome', uname)\n",
    "else:\n",
    "    print('Invalid username or password:-')"
   ]
  },
  {
   "cell_type": "code",
   "execution_count": null,
   "metadata": {},
   "outputs": [],
   "source": [
    "t=int(input('Enter no of tables'))\n",
    "m=int(input('Enter table multiples'))\n",
    "for i in range(1,t+1):\n",
    "    for j in range (1,m+1):\n",
    "        print(i,'*',j,'=',i*j)\n",
    "        print('\\n')"
   ]
  },
  {
   "cell_type": "code",
   "execution_count": 4,
   "metadata": {},
   "outputs": [
    {
     "name": "stdout",
     "output_type": "stream",
     "text": [
      "Enter no of tables2\n",
      "Enter table multiples5\n",
      "1 * 1 = 1\t2 * 1 = 2\t\n",
      "\n",
      "1 * 2 = 2\t2 * 2 = 4\t\n",
      "\n",
      "1 * 3 = 3\t2 * 3 = 6\t\n",
      "\n",
      "1 * 4 = 4\t2 * 4 = 8\t\n",
      "\n",
      "1 * 5 = 5\t2 * 5 = 10\t\n",
      "\n"
     ]
    }
   ],
   "source": [
    "t=int(input('Enter no of tables'))\n",
    "m=int(input('Enter table multiples'))\n",
    "for j in range(1,m+1):\n",
    "    for i in range (1,t+1):\n",
    "        print(i,'*',j,'=',i*j,end='\\t')\n",
    "    print('\\n')"
   ]
  },
  {
   "cell_type": "code",
   "execution_count": 8,
   "metadata": {},
   "outputs": [
    {
     "name": "stdout",
     "output_type": "stream",
     "text": [
      "Enter value4\n",
      "4\n",
      "24\n"
     ]
    }
   ],
   "source": [
    "num=int(input('Enter value'))\n",
    "i=1\n",
    "for fact in range(1,num+1):\n",
    "    i=i*fact\n",
    "print(fact)\n",
    "print(i)"
   ]
  },
  {
   "cell_type": "code",
   "execution_count": 9,
   "metadata": {},
   "outputs": [
    {
     "name": "stdout",
     "output_type": "stream",
     "text": [
      "enter value4\n",
      "1\n",
      "2\n",
      "4\n"
     ]
    }
   ],
   "source": [
    "n=int(input('enter value'))\n",
    "for f in range(1,n+1):\n",
    "    if n%f==0:\n",
    "        print(f)"
   ]
  },
  {
   "cell_type": "code",
   "execution_count": 13,
   "metadata": {},
   "outputs": [],
   "source": [
    "# user defined\n",
    "\n",
    "# block of statements to perform tasks\n",
    "\n",
    "# code reusability\n",
    "\n",
    "# time will save\n",
    "\n",
    "# def function name (argiments/parameters):\n",
    "    #statements\n",
    "    \n",
    "#callinf function \n",
    "\n",
    "#functionname(arguments/parameters)\n"
   ]
  },
  {
   "cell_type": "code",
   "execution_count": 10,
   "metadata": {},
   "outputs": [
    {
     "name": "stdout",
     "output_type": "stream",
     "text": [
      "3\n"
     ]
    }
   ],
   "source": [
    "def add(a,b):\n",
    "    print(a+b)\n",
    "add(1,2)"
   ]
  },
  {
   "cell_type": "code",
   "execution_count": 11,
   "metadata": {},
   "outputs": [
    {
     "name": "stdout",
     "output_type": "stream",
     "text": [
      "742\n"
     ]
    }
   ],
   "source": [
    "add(199,543)"
   ]
  },
  {
   "cell_type": "code",
   "execution_count": 12,
   "metadata": {},
   "outputs": [],
   "source": [
    "# with argumennts with returntype\n",
    "# without arguments with returntype\n",
    "# without arguments and without returntype\n",
    "#with arguments and without returntype\n",
    "\n",
    "#required argument/positional argument\n",
    "#keyword argument\n",
    "#default argument\n",
    "#variable length argument "
   ]
  },
  {
   "cell_type": "code",
   "execution_count": 14,
   "metadata": {},
   "outputs": [
    {
     "name": "stdout",
     "output_type": "stream",
     "text": [
      "Python workshop\n",
      "welcome\n"
     ]
    }
   ],
   "source": [
    "def sample():\n",
    "    print('welcome')\n",
    "print('Python workshop')\n",
    "sample()"
   ]
  },
  {
   "cell_type": "code",
   "execution_count": 15,
   "metadata": {},
   "outputs": [
    {
     "name": "stdout",
     "output_type": "stream",
     "text": [
      "Python workshop\n"
     ]
    }
   ],
   "source": [
    "def sample():\n",
    "    pass\n",
    "print('Python workshop')\n",
    "sample()"
   ]
  },
  {
   "cell_type": "code",
   "execution_count": 22,
   "metadata": {},
   "outputs": [
    {
     "data": {
      "text/plain": [
       "('add of two num is', 30)"
      ]
     },
     "execution_count": 22,
     "metadata": {},
     "output_type": "execute_result"
    }
   ],
   "source": [
    "# with argumennts with returntype\n",
    "def add(a,b):\n",
    "    c=a+b\n",
    "    return('add of two num is',c)\n",
    "add(10,20)"
   ]
  },
  {
   "cell_type": "code",
   "execution_count": 36,
   "metadata": {},
   "outputs": [
    {
     "data": {
      "text/plain": [
       "-10"
      ]
     },
     "execution_count": 36,
     "metadata": {},
     "output_type": "execute_result"
    }
   ],
   "source": [
    "# without arguments with returntype\n",
    "def sub():\n",
    "    a=20\n",
    "    b=30\n",
    "    return a-b\n",
    "sub()"
   ]
  },
  {
   "cell_type": "code",
   "execution_count": 29,
   "metadata": {},
   "outputs": [
    {
     "name": "stdout",
     "output_type": "stream",
     "text": [
      "3\n"
     ]
    }
   ],
   "source": [
    "# without arguments and without returntype\n",
    "def add():\n",
    "    a=1\n",
    "    b=2\n",
    "    c=a+b\n",
    "    print(c)\n",
    "add()"
   ]
  },
  {
   "cell_type": "code",
   "execution_count": 31,
   "metadata": {},
   "outputs": [
    {
     "name": "stdout",
     "output_type": "stream",
     "text": [
      "12\n"
     ]
    }
   ],
   "source": [
    "#with arguments and without returntype\n",
    "def add(a,b):\n",
    "    a=5\n",
    "    b=7\n",
    "    c=a+b\n",
    "    print(c)\n",
    "add(5,7)"
   ]
  },
  {
   "cell_type": "code",
   "execution_count": 39,
   "metadata": {},
   "outputs": [
    {
     "name": "stdout",
     "output_type": "stream",
     "text": [
      "enter value4\n",
      "enter value6\n"
     ]
    },
    {
     "data": {
      "text/plain": [
       "'sum of 4 + 6 = 10'"
      ]
     },
     "execution_count": 39,
     "metadata": {},
     "output_type": "execute_result"
    }
   ],
   "source": [
    "def sum(a,b):\n",
    "    return 'sum of %d + %d = %d'%(a,b,a+b)\n",
    "a=int(input('enter value'))\n",
    "b=int(input('enter value'))\n",
    "sum(a,b)"
   ]
  },
  {
   "cell_type": "code",
   "execution_count": 42,
   "metadata": {},
   "outputs": [
    {
     "name": "stdout",
     "output_type": "stream",
     "text": [
      "enter principal amt :-3\n",
      "enter time :-4\n",
      "enter rate :-5\n"
     ]
    },
    {
     "data": {
      "text/plain": [
       "0.6"
      ]
     },
     "execution_count": 42,
     "metadata": {},
     "output_type": "execute_result"
    }
   ],
   "source": [
    "#required/positional argument\n",
    "\n",
    "def intrest(p,t,r):\n",
    "    total=p*t*r/100\n",
    "    return total\n",
    "p=int(input('enter principal amt :-'))\n",
    "t=float(input('enter time :-'))\n",
    "r=float(input('enter rate :-'))\n",
    "intrest(p,t,r)"
   ]
  },
  {
   "cell_type": "code",
   "execution_count": 43,
   "metadata": {},
   "outputs": [
    {
     "data": {
      "text/plain": [
       "300.0"
      ]
     },
     "execution_count": 43,
     "metadata": {},
     "output_type": "execute_result"
    }
   ],
   "source": [
    "#keyword argument\n",
    "def simple(p,t,r):\n",
    "    total=p*t*r/100\n",
    "    return total\n",
    "simple(t=2.0,r=1.50,p=10000)"
   ]
  },
  {
   "cell_type": "code",
   "execution_count": 48,
   "metadata": {},
   "outputs": [
    {
     "name": "stdout",
     "output_type": "stream",
     "text": [
      "120.0\n"
     ]
    }
   ],
   "source": [
    "#default argument\n",
    "def simple1(p=1000,t=2.0,r=3.0):\n",
    "    print(p*t*r/100)\n",
    "simple1(p=2000)"
   ]
  },
  {
   "cell_type": "code",
   "execution_count": 59,
   "metadata": {},
   "outputs": [
    {
     "name": "stdout",
     "output_type": "stream",
     "text": [
      "1\n",
      "3\n",
      "6\n",
      "10\n",
      "15\n",
      "21\n"
     ]
    }
   ],
   "source": [
    "#variable length argument \n",
    "def var_sum(*a):\n",
    "    s=0\n",
    "    for i in a:\n",
    "        s+=i\n",
    "        print(s)\n",
    "var_sum(1,2,3,4,5,6)"
   ]
  },
  {
   "cell_type": "code",
   "execution_count": null,
   "metadata": {},
   "outputs": [],
   "source": []
  }
 ],
 "metadata": {
  "kernelspec": {
   "display_name": "Python 3",
   "language": "python",
   "name": "python3"
  },
  "language_info": {
   "codemirror_mode": {
    "name": "ipython",
    "version": 3
   },
   "file_extension": ".py",
   "mimetype": "text/x-python",
   "name": "python",
   "nbconvert_exporter": "python",
   "pygments_lexer": "ipython3",
   "version": "3.7.3"
  }
 },
 "nbformat": 4,
 "nbformat_minor": 2
}
